{
 "cells": [
  {
   "cell_type": "markdown",
   "id": "06de0279-b56f-4c70-beaa-edc0364dfe29",
   "metadata": {},
   "source": [
    "# DEODE training\n",
    "## Simple plotting of 2D fields "
   ]
  },
  {
   "cell_type": "code",
   "execution_count": 1,
   "id": "d415c4c4-a7e9-41e7-be0e-74787d67a91c",
   "metadata": {},
   "outputs": [],
   "source": [
    "# Personal info\n",
    "username = 'nknt'\n",
    "path_to_exercises = f'/home/{username}/deode/DE330_Training_2024/Exercises/'\n"
   ]
  },
  {
   "cell_type": "code",
   "execution_count": 2,
   "id": "75afc485-d9f6-4149-8626-2cc1747019b0",
   "metadata": {},
   "outputs": [],
   "source": [
    "# load some useful libraries \n",
    "import os,sys\n",
    "import xarray as xr\n",
    "import numpy as np\n",
    "import cartopy.crs as ccrs\n",
    "import matplotlib.pyplot as plt\n",
    "import toml\n",
    "import warnings\n",
    "from datetime import datetime,time\n",
    "warnings.filterwarnings('ignore')\n",
    "\n",
    "# local libraries\n",
    "sys.path.append(f'{path_to_exercises}Plot')\n",
    "from mapping import setup_map,setup_map_subplots\n"
   ]
  },
  {
   "cell_type": "markdown",
   "id": "e4df4b5f-d44a-4141-bdc7-c190e51860a3",
   "metadata": {},
   "source": [
    "Assuming you've managed to do a simulation with all three CSC's we can now load some data. "
   ]
  },
  {
   "cell_type": "code",
   "execution_count": 3,
   "id": "1f93ad77-f81a-4e16-b28d-e1aca4802b10",
   "metadata": {},
   "outputs": [],
   "source": [
    "####### runs #######\n",
    "d_alar = f'/ec/res4/scratch/{username}/deode/CY48t3_ALARO/archive/'\n",
    "d_arom = f'/ec/res4/scratch/{username}/deode/CY48t3_AROME/archive/'\n",
    "d_harm = f'/ec/res4/scratch/{username}/deode/CY46h1_HARMONIE_AROME/archive/'"
   ]
  },
  {
   "cell_type": "code",
   "execution_count": null,
   "id": "92e4855d-316c-4e97-afdb-00adb79298a3",
   "metadata": {},
   "outputs": [],
   "source": []
  }
 ],
 "metadata": {
  "kernelspec": {
   "display_name": "Python 3 (ipykernel)",
   "language": "python",
   "name": "python3"
  },
  "language_info": {
   "codemirror_mode": {
    "name": "ipython",
    "version": 3
   },
   "file_extension": ".py",
   "mimetype": "text/x-python",
   "name": "python",
   "nbconvert_exporter": "python",
   "pygments_lexer": "ipython3",
   "version": "3.11.8"
  }
 },
 "nbformat": 4,
 "nbformat_minor": 5
}
