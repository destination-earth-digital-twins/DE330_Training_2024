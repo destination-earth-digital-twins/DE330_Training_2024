{
 "cells": [
  {
   "cell_type": "markdown",
   "id": "06de0279-b56f-4c70-beaa-edc0364dfe29",
   "metadata": {},
   "source": [
    "# DEODE training\n",
    "## Simple plotting of 2D fields "
   ]
  },
  {
   "cell_type": "code",
   "execution_count": 3,
   "id": "75afc485-d9f6-4149-8626-2cc1747019b0",
   "metadata": {},
   "outputs": [
    {
     "name": "stdout",
     "output_type": "stream",
     "text": [
      "['/perm/hlam/apps/epygram/1.4.13/epygram', '/perm/hlam/apps/epygram/1.4.13/site', '/perm/hlam/apps/epygram/1.4.13', '/usr/local/apps/python3/3.11.8-01/lib/python311.zip', '/usr/local/apps/python3/3.11.8-01/lib/python3.11', '/usr/local/apps/python3/3.11.8-01/lib/python3.11/lib-dynload', '', '/home/nknt/.local/lib/python3.11/site-packages', '/usr/local/apps/python3/3.11.8-01/lib/python3.11/site-packages', '/home/nknt/deode/DE330_Training_2024/Excercises/Plot', '/home/nknt/deode/DE330_Training_2024/Exercises/Plot', '/home/nknt/deode/DE330_Training_2024/Exercises/Plot']\n"
     ]
    }
   ],
   "source": [
    "# load some useful libraries \n",
    "import os,sys\n",
    "import xarray as xr\n",
    "import numpy as np\n",
    "import cartopy.crs as ccrs\n",
    "import matplotlib.pyplot as plt\n",
    "import toml\n",
    "import warnings\n",
    "from datetime import datetime,time\n",
    "warnings.filterwarnings('ignore')\n",
    "\n",
    "# local libraries\n",
    "sys.path.append('/home/nknt/deode/DE330_Training_2024/Exercises/Plot')\n",
    "from mapping import setup_map,setup_map_subplots\n"
   ]
  },
  {
   "cell_type": "code",
   "execution_count": null,
   "id": "1f93ad77-f81a-4e16-b28d-e1aca4802b10",
   "metadata": {},
   "outputs": [],
   "source": [
    "####### runs #######\n",
    "d_alaro = '/ec/res4/scratch/nknt/deode/CY48t3_ALARO/archive/'\n",
    "d_arome = '/ec/res4/scratch/nknt/deode/PARIS_RDP_CY48t3_500M/archive/'\n",
    "d_arome = '/ec/res4/scratch/nknt/deode/PARIS_RDP_CY48t3_500M/archive/'"
   ]
  }
 ],
 "metadata": {
  "kernelspec": {
   "display_name": "Python 3 (ipykernel)",
   "language": "python",
   "name": "python3"
  },
  "language_info": {
   "codemirror_mode": {
    "name": "ipython",
    "version": 3
   },
   "file_extension": ".py",
   "mimetype": "text/x-python",
   "name": "python",
   "nbconvert_exporter": "python",
   "pygments_lexer": "ipython3",
   "version": "3.11.8"
  }
 },
 "nbformat": 4,
 "nbformat_minor": 5
}
